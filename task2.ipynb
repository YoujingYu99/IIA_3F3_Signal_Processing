{
 "cells": [
  {
   "cell_type": "code",
   "execution_count": 1,
   "metadata": {},
   "outputs": [],
   "source": [
    "import numpy as np\n",
    "import matplotlib.pyplot as plt"
   ]
  },
  {
   "cell_type": "code",
   "execution_count": 2,
   "metadata": {},
   "outputs": [],
   "source": [
    "def n_pdf(x, mu=0., sigma=1.):  # normal pdf\n",
    "    u = (x - mu) / abs(sigma)\n",
    "    y = (1 / (np.sqrt(2 * np.pi) * abs(sigma)))\n",
    "    y *= np.exp(-u * u / 2)\n",
    "    return y\n",
    "\n",
    "def ksdensity(data, width=0.3):\n",
    "    \"\"\"Returns kernel smoothing function from data points in data\"\"\"\n",
    "    def ksd(x_axis):\n",
    "        def n_pdf(x, mu=0., sigma=1.): # normal pdf\n",
    "            u = (x - mu) / abs(sigma)\n",
    "            y = (1 / (np.sqrt(2 * np.pi) * abs(sigma)))\n",
    "            y *= np.exp(-u * u / 2)\n",
    "            return y\n",
    "        prob = [n_pdf(x_i, data, width) for x_i in x_axis]\n",
    "        pdf = [np.average(pr) for pr in prob] # each row is one x value\n",
    "        return np.array(pdf)\n",
    "    return ksd"
   ]
  },
  {
   "cell_type": "code",
   "execution_count": 39,
   "metadata": {},
   "outputs": [
    {
     "data": {
      "image/png": "[encoded data removed]",
      "text/plain": [
       "<Figure size 432x288 with 1 Axes>"
      ]
     },
     "metadata": {
      "needs_background": "light"
     },
     "output_type": "display_data"
    }
   ],
   "source": [
    "# uniform distribution\n",
    "sample_size = 100000\n",
    "n_bin = 100\n",
    "data = np.random.uniform(0, 2*np.pi, size=sample_size)\n",
    "# set y = sin(x)\n",
    "y = np.sin(data)\n",
    "x_values = np.linspace(-1+1e-2, 1-1e-2, 1000)\n",
    "#theo = (1/2*np.pi)/(np.cos(x_values))*100*(max(data)-min(data))/30\n",
    "theo = 1/(np.pi)/np.sqrt(1-(x_values)**2)*sample_size*2/n_bin\n",
    "\n",
    "\n",
    "# plt.plot(test)\n",
    "plt.hist(y, bins=n_bin)\n",
    "plt.plot(x_values, theo)\n",
    "plt.ylim([0, 2000])\n",
    "plt.show()\n"
   ]
  },
  {
   "cell_type": "code",
   "execution_count": 8,
   "metadata": {},
   "outputs": [
    {
     "data": {
      "text/plain": [
       "array([2.61378631, 1.06388048, 3.81770753, ..., 4.94184769, 3.80771071,\n",
       "       4.20344527])"
      ]
     },
     "execution_count": 8,
     "metadata": {},
     "output_type": "execute_result"
    }
   ],
   "source": [
    "data"
   ]
  },
  {
   "cell_type": "code",
   "execution_count": 52,
   "metadata": {},
   "outputs": [],
   "source": [
    "def clipping_func(data):\n",
    "    clipped_data = []\n",
    "    for x in data:\n",
    "        if np.sin(x) > 10.7:\n",
    "            clipped_data.append(0.7)\n",
    "        else:\n",
    "            clipped_data.append(np.sin(x))\n",
    "    return clipped_data"
   ]
  },
  {
   "cell_type": "code",
   "execution_count": 63,
   "metadata": {},
   "outputs": [
    {
     "name": "stderr",
     "output_type": "stream",
     "text": [
      "C:\\Users\\Youjing Yu\\Anaconda3\\lib\\site-packages\\ipykernel_launcher.py:10: RuntimeWarning: divide by zero encountered in true_divide\n",
      "  # Remove the CWD from sys.path while we load stuff.\n"
     ]
    },
    {
     "data": {
      "image/png": "[encoded data removed]",
      "text/plain": [
       "<Figure size 432x288 with 1 Axes>"
      ]
     },
     "metadata": {
      "needs_background": "light"
     },
     "output_type": "display_data"
    }
   ],
   "source": [
    "# uniform distribution\n",
    "sample_size = 50000\n",
    "n_bin = 100\n",
    "bins = np.linspace(-1, 1, n_bin+1)\n",
    "data = np.random.uniform(0, 2*np.pi, size=sample_size)\n",
    "# y = clipping_func(data)\n",
    "y = np.sin(data)\n",
    "y[y > 0.7] = 0.7\n",
    "x_values = np.linspace(-1, 0.7, 1000)\n",
    "theo = 1/(np.pi)/np.sqrt(1-(x_values)**2)*sample_size*2/n_bin\n",
    "\n",
    "for i in theo:\n",
    "    if i >= 0.7:\n",
    "        i = 0.7\n",
    "\n",
    "# plt.plot(test)\n",
    "plt.hist(y, bins=bins)\n",
    "plt.plot(x_values, theo)\n",
    "plt.ylim([0, 1000])\n",
    "plt.grid()\n",
    "plt.show()"
   ]
  },
  {
   "cell_type": "code",
   "execution_count": 65,
   "metadata": {},
   "outputs": [
    {
     "name": "stdout",
     "output_type": "stream",
     "text": [
      "12708\n"
     ]
    }
   ],
   "source": [
    "npy = np.array(y)\n",
    "n_0_7 = len(npy[npy==0.7])\n",
    "print(n_0_7)\n",
    "P_0_7 = n_0_7/sample_size"
   ]
  },
  {
   "cell_type": "code",
   "execution_count": 66,
   "metadata": {},
   "outputs": [
    {
     "data": {
      "text/plain": [
       "0.25416"
      ]
     },
     "execution_count": 66,
     "metadata": {},
     "output_type": "execute_result"
    }
   ],
   "source": [
    "P_0_7"
   ]
  },
  {
   "cell_type": "code",
   "execution_count": null,
   "metadata": {},
   "outputs": [],
   "source": []
  }
 ],
 "metadata": {
  "kernelspec": {
   "display_name": "Python 3",
   "language": "python",
   "name": "python3"
  },
  "language_info": {
   "codemirror_mode": {
    "name": "ipython",
    "version": 3
   },
   "file_extension": ".py",
   "mimetype": "text/x-python",
   "name": "python",
   "nbconvert_exporter": "python",
   "pygments_lexer": "ipython3",
   "version": "3.7.4"
  }
 },
 "nbformat": 4,
 "nbformat_minor": 2
}

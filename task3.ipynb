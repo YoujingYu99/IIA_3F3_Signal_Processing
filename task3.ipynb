{
 "cells": [
  {
   "cell_type": "code",
   "execution_count": null,
   "metadata": {},
   "outputs": [],
   "source": [
    "import numpy as np\n",
    "import matplotlib.pyplot as plt"
   ]
  },
  {
   "cell_type": "code",
   "execution_count": null,
   "metadata": {},
   "outputs": [],
   "source": [
    "def ksdensity(data, width=0.3):\n",
    "    \"\"\"Returns kernel smoothing function from data points in data\"\"\"\n",
    "    def ksd(x_axis):\n",
    "        def n_pdf(x, mu=0., sigma=1.): # normal pdf\n",
    "            u = (x - mu) / abs(sigma)\n",
    "            y = (1 / (np.sqrt(2 * np.pi) * abs(sigma)))\n",
    "            y *= np.exp(-u * u / 2)\n",
    "            return y\n",
    "        prob = [n_pdf(x_i, data, width) for x_i in x_axis]\n",
    "        pdf = [np.average(pr) for pr in prob] # each row is one x value\n",
    "        return np.array(pdf)\n",
    "    return ksd"
   ]
  },
  {
   "cell_type": "code",
   "execution_count": null,
   "metadata": {},
   "outputs": [],
   "source": [
    "def variance_cal(mean, y):\n",
    "    diff_list = []\n",
    "    for i in y:\n",
    "        squared_diff = i**2 - mean**2\n",
    "        diff_list.append(squared_diff)\n",
    "\n",
    "    return sum(diff_list)/len(diff_list)\n",
    "\n",
    "def estimator(y, mu=1):\n",
    "    diff_list = []\n",
    "    for i in y:\n",
    "        squared_diff = (i - mu)**2\n",
    "        diff_list.append(squared_diff)\n",
    "\n",
    "    sample_list = []\n",
    "    avg_diff_list = []\n",
    "    for p in range(len(y)):\n",
    "        sample_list.append(p)\n",
    "        avg_diff_list.append(sum(diff_list[:p])/(p+1))\n",
    "\n",
    "    return sample_list, avg_diff_list"
   ]
  },
  {
   "cell_type": "code",
   "execution_count": null,
   "metadata": {},
   "outputs": [],
   "source": [
    "# generate uniform distribution\n",
    "x = np.random.rand(1000)\n",
    "y = -np.log(1-x)\n",
    "est_mean = sum(y)/len(y)\n",
    "print(est_mean)\n",
    "est_var = variance_cal(est_mean, y)\n",
    "print(est_var)\n",
    "plt.hist(y, bins=30) # number of bins\n",
    "plt.show()\n",
    "\n",
    "\n",
    "\n",
    "sample_list, avg_diff_list = estimator(y, mu=1)\n",
    "\n",
    "\n",
    "plt.plot(sample_list, avg_diff_list)\n",
    "plt.show()\n"
   ]
  }
 ],
 "metadata": {
  "kernelspec": {
   "display_name": "Python 3",
   "language": "python",
   "name": "python3"
  },
  "language_info": {
   "codemirror_mode": {
    "name": "ipython",
    "version": 3
   },
   "file_extension": ".py",
   "mimetype": "text/x-python",
   "name": "python",
   "nbconvert_exporter": "python",
   "pygments_lexer": "ipython3",
   "version": "3.7.4"
  }
 },
 "nbformat": 4,
 "nbformat_minor": 2
}
